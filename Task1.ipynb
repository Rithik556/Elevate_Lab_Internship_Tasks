{
 "cells": [
  {
   "cell_type": "code",
   "execution_count": 59,
   "id": "9b8a5a68",
   "metadata": {},
   "outputs": [],
   "source": [
    "import pandas as pd"
   ]
  },
  {
   "cell_type": "code",
   "execution_count": 60,
   "id": "069233f9",
   "metadata": {},
   "outputs": [
    {
     "name": "stdout",
     "output_type": "stream",
     "text": [
      "     show_id     type                  title       director           cast  \\\n",
      "0         s1    Movie   Dick Johnson Is Dead  Not Available  Not Available   \n",
      "1         s2  TV Show          Blood & Water  Not Available  Not Available   \n",
      "2         s3  TV Show              Ganglands  Not Available  Not Available   \n",
      "3         s4  TV Show  Jailbirds New Orleans  Not Available  Not Available   \n",
      "4         s5  TV Show           Kota Factory  Not Available  Not Available   \n",
      "...      ...      ...                    ...            ...            ...   \n",
      "8802   s8803    Movie                 Zodiac  Not Available  Not Available   \n",
      "8803   s8804  TV Show            Zombie Dumb  Not Available  Not Available   \n",
      "8804   s8805    Movie             Zombieland  Not Available  Not Available   \n",
      "8805   s8806    Movie                   Zoom  Not Available  Not Available   \n",
      "8806   s8807    Movie                 Zubaan  Not Available  Not Available   \n",
      "\n",
      "            country  date_added  release_year rating   duration  \\\n",
      "0     United States  2021-09-25          2020  PG-13     90 min   \n",
      "1      South Africa  2021-09-24          2021  TV-MA  2 Seasons   \n",
      "2           Unknown  2021-09-24          2021  TV-MA   1 Season   \n",
      "3           Unknown  2021-09-24          2021  TV-MA   1 Season   \n",
      "4             India  2021-09-24          2021  TV-MA  2 Seasons   \n",
      "...             ...         ...           ...    ...        ...   \n",
      "8802  United States  2019-11-20          2007      R    158 min   \n",
      "8803        Unknown  2019-07-01          2018  TV-Y7  2 Seasons   \n",
      "8804  United States  2019-11-01          2009      R     88 min   \n",
      "8805  United States  2020-01-11          2006     PG     88 min   \n",
      "8806          India  2019-03-02          2015  TV-14    111 min   \n",
      "\n",
      "                                              listed_in  \\\n",
      "0                                         Documentaries   \n",
      "1       International TV Shows, TV Dramas, TV Mysteries   \n",
      "2     Crime TV Shows, International TV Shows, TV Act...   \n",
      "3                                Docuseries, Reality TV   \n",
      "4     International TV Shows, Romantic TV Shows, TV ...   \n",
      "...                                                 ...   \n",
      "8802                     Cult Movies, Dramas, Thrillers   \n",
      "8803             Kids' TV, Korean TV Shows, TV Comedies   \n",
      "8804                            Comedies, Horror Movies   \n",
      "8805                 Children & Family Movies, Comedies   \n",
      "8806     Dramas, International Movies, Music & Musicals   \n",
      "\n",
      "                                            description  \n",
      "0     As her father nears the end of his life, filmm...  \n",
      "1     After crossing paths at a party, a Cape Town t...  \n",
      "2     To protect his family from a powerful drug lor...  \n",
      "3     Feuds, flirtations and toilet talk go down amo...  \n",
      "4     In a city of coaching centers known to train I...  \n",
      "...                                                 ...  \n",
      "8802  A political cartoonist, a crime reporter and a...  \n",
      "8803  While living alone in a spooky town, a young g...  \n",
      "8804  Looking to survive in a world taken over by zo...  \n",
      "8805  Dragged from civilian life, a former superhero...  \n",
      "8806  A scrappy but poor boy worms his way into a ty...  \n",
      "\n",
      "[8807 rows x 12 columns]\n"
     ]
    }
   ],
   "source": [
    "# Read Dataset\n",
    "\n",
    "file =  pd.read_csv(\"D:/RITHIK/Elevate Lab Tasks/Task 1/netflix_titles.csv\")\n",
    "print(file)"
   ]
  },
  {
   "cell_type": "code",
   "execution_count": 61,
   "metadata": {},
   "outputs": [
    {
     "name": "stdout",
     "output_type": "stream",
     "text": [
      "Dataset's Original Shape :  (8807, 12)\n",
      "<class 'pandas.core.frame.DataFrame'>\n",
      "RangeIndex: 8807 entries, 0 to 8806\n",
      "Data columns (total 12 columns):\n",
      " #   Column        Non-Null Count  Dtype \n",
      "---  ------        --------------  ----- \n",
      " 0   show_id       8807 non-null   object\n",
      " 1   type          8807 non-null   object\n",
      " 2   title         8807 non-null   object\n",
      " 3   director      8807 non-null   object\n",
      " 4   cast          8807 non-null   object\n",
      " 5   country       8807 non-null   object\n",
      " 6   date_added    8709 non-null   object\n",
      " 7   release_year  8807 non-null   int64 \n",
      " 8   rating        8807 non-null   object\n",
      " 9   duration      8807 non-null   object\n",
      " 10  listed_in     8807 non-null   object\n",
      " 11  description   8807 non-null   object\n",
      "dtypes: int64(1), object(11)\n",
      "memory usage: 825.8+ KB\n",
      "None\n",
      "  show_id     type                  title       director           cast  \\\n",
      "0      s1    Movie   Dick Johnson Is Dead  Not Available  Not Available   \n",
      "1      s2  TV Show          Blood & Water  Not Available  Not Available   \n",
      "2      s3  TV Show              Ganglands  Not Available  Not Available   \n",
      "3      s4  TV Show  Jailbirds New Orleans  Not Available  Not Available   \n",
      "4      s5  TV Show           Kota Factory  Not Available  Not Available   \n",
      "\n",
      "         country  date_added  release_year rating   duration  \\\n",
      "0  United States  2021-09-25          2020  PG-13     90 min   \n",
      "1   South Africa  2021-09-24          2021  TV-MA  2 Seasons   \n",
      "2        Unknown  2021-09-24          2021  TV-MA   1 Season   \n",
      "3        Unknown  2021-09-24          2021  TV-MA   1 Season   \n",
      "4          India  2021-09-24          2021  TV-MA  2 Seasons   \n",
      "\n",
      "                                           listed_in  \\\n",
      "0                                      Documentaries   \n",
      "1    International TV Shows, TV Dramas, TV Mysteries   \n",
      "2  Crime TV Shows, International TV Shows, TV Act...   \n",
      "3                             Docuseries, Reality TV   \n",
      "4  International TV Shows, Romantic TV Shows, TV ...   \n",
      "\n",
      "                                         description  \n",
      "0  As her father nears the end of his life, filmm...  \n",
      "1  After crossing paths at a party, a Cape Town t...  \n",
      "2  To protect his family from a powerful drug lor...  \n",
      "3  Feuds, flirtations and toilet talk go down amo...  \n",
      "4  In a city of coaching centers known to train I...  \n"
     ]
    }
   ],
   "source": [
    "# Basic info\n",
    "\n",
    "print(\"Dataset's Original Shape : \",file.shape)\n",
    "print(file.info())\n",
    "print(file.head())"
   ]
  },
  {
   "cell_type": "code",
   "execution_count": 62,
   "id": "32fdd672",
   "metadata": {},
   "outputs": [
    {
     "name": "stdout",
     "output_type": "stream",
     "text": [
      "Count of Duplicates : 0\n",
      "After Removing Duplicates : (8807, 12)\n"
     ]
    }
   ],
   "source": [
    "# Removing Duplicates\n",
    "\n",
    "file = file.drop_duplicates()\n",
    "duplicate_count = file.duplicated().sum()\n",
    "print(\"Count of Duplicates :\",duplicate_count)\n",
    "print(\"After Removing Duplicates :\",file.shape)"
   ]
  },
  {
   "cell_type": "code",
   "execution_count": 63,
   "id": "4ffbe696",
   "metadata": {},
   "outputs": [
    {
     "name": "stdout",
     "output_type": "stream",
     "text": [
      "Missing Values :\n",
      " show_id          0\n",
      "type             0\n",
      "title            0\n",
      "director         0\n",
      "cast             0\n",
      "country          0\n",
      "date_added      98\n",
      "release_year     0\n",
      "rating           0\n",
      "duration         0\n",
      "listed_in        0\n",
      "description      0\n",
      "dtype: int64\n"
     ]
    }
   ],
   "source": [
    "# Missing Values\n",
    "\n",
    "Missing_count = file.isnull().sum()\n",
    "print(\"Missing Values :\\n\", Missing_count)"
   ]
  },
  {
   "cell_type": "code",
   "execution_count": 64,
   "id": "e462330d",
   "metadata": {},
   "outputs": [
    {
     "name": "stdout",
     "output_type": "stream",
     "text": [
      "Index(['show_id', 'type', 'title', 'director', 'cast', 'country', 'date_added',\n",
      "       'release_year', 'rating', 'duration', 'listed_in', 'description'],\n",
      "      dtype='object')\n"
     ]
    }
   ],
   "source": [
    "# Column names\n",
    "\n",
    "print(file.columns)"
   ]
  },
  {
   "cell_type": "code",
   "execution_count": 65,
   "id": "601e36ac",
   "metadata": {},
   "outputs": [],
   "source": [
    "# Drop rows where title is missing (essential field)\n",
    "\n",
    "file = file.dropna(subset=[\"title\"])"
   ]
  },
  {
   "cell_type": "code",
   "execution_count": 66,
   "id": "04885be8",
   "metadata": {},
   "outputs": [],
   "source": [
    "file[\"director\"] = file[\"director\"].fillna(\"Not Available\")\n",
    "file[\"cast\"] = file[\"cast\"].fillna(\"Not Available\")\n"
   ]
  },
  {
   "cell_type": "code",
   "execution_count": 67,
   "id": "f95df160",
   "metadata": {},
   "outputs": [],
   "source": [
    "# For 'country', fill with \"Unknown\"\n",
    "\n",
    "file['country'] = file['country'].fillna(\"Unknown\")\n",
    "file['rating'] = file['rating'].fillna(\"Unknown\")\n",
    "file['duration'] = file['duration'].fillna(\"Unknown\")\n"
   ]
  },
  {
   "cell_type": "code",
   "execution_count": 68,
   "id": "7f0c2ea0",
   "metadata": {},
   "outputs": [],
   "source": [
    "# For 'date_added', convert to datetime\n",
    "\n",
    "file['date_added'] = pd.to_datetime(file['date_added'], errors='coerce')"
   ]
  },
  {
   "cell_type": "code",
   "execution_count": 69,
   "id": "f4b744ac",
   "metadata": {},
   "outputs": [],
   "source": [
    "# Rename columns: lowercase and underscores\n",
    "\n",
    "file.columns = file.columns.str.lower().str.replace(\" \",\"_\")"
   ]
  },
  {
   "cell_type": "code",
   "execution_count": 70,
   "id": "ec573ca7",
   "metadata": {},
   "outputs": [
    {
     "name": "stdout",
     "output_type": "stream",
     "text": [
      "Index(['show_id', 'type', 'title', 'director', 'cast', 'country', 'date_added',\n",
      "       'release_year', 'rating', 'duration', 'listed_in', 'description'],\n",
      "      dtype='object')\n"
     ]
    }
   ],
   "source": [
    "print(file.columns)"
   ]
  },
  {
   "cell_type": "code",
   "execution_count": 71,
   "id": "a1a6d804",
   "metadata": {},
   "outputs": [],
   "source": [
    "# Fix text data formats: strip spaces and standardize\n",
    "\n",
    "file.columns = file.columns.astype(str).str.strip()"
   ]
  },
  {
   "cell_type": "code",
   "execution_count": 72,
   "id": "09b68794",
   "metadata": {},
   "outputs": [
    {
     "name": "stdout",
     "output_type": "stream",
     "text": [
      "Cleaned shape: (8807, 12)\n",
      "<class 'pandas.core.frame.DataFrame'>\n",
      "RangeIndex: 8807 entries, 0 to 8806\n",
      "Data columns (total 12 columns):\n",
      " #   Column        Non-Null Count  Dtype         \n",
      "---  ------        --------------  -----         \n",
      " 0   show_id       8807 non-null   object        \n",
      " 1   type          8807 non-null   object        \n",
      " 2   title         8807 non-null   object        \n",
      " 3   director      8807 non-null   object        \n",
      " 4   cast          8807 non-null   object        \n",
      " 5   country       8807 non-null   object        \n",
      " 6   date_added    8709 non-null   datetime64[ns]\n",
      " 7   release_year  8807 non-null   int64         \n",
      " 8   rating        8807 non-null   object        \n",
      " 9   duration      8807 non-null   object        \n",
      " 10  listed_in     8807 non-null   object        \n",
      " 11  description   8807 non-null   object        \n",
      "dtypes: datetime64[ns](1), int64(1), object(10)\n",
      "memory usage: 825.8+ KB\n",
      "None\n"
     ]
    }
   ],
   "source": [
    "# Final overview\n",
    "print(\"Cleaned shape:\", file.shape)\n",
    "print(file.info())"
   ]
  },
  {
   "cell_type": "code",
   "execution_count": 73,
   "id": "8c1b8dec",
   "metadata": {},
   "outputs": [],
   "source": [
    "# Save cleaned dataset\n",
    "file.to_csv(\"D:/RITHIK/Elevate Lab Tasks/Task 1/netflix_titles.csv\", index=False)"
   ]
  },
  {
   "cell_type": "code",
   "execution_count": null,
   "id": "606f717d",
   "metadata": {},
   "outputs": [],
   "source": []
  }
 ],
 "metadata": {
  "kernelspec": {
   "display_name": "Python 3",
   "language": "python",
   "name": "python3"
  },
  "language_info": {
   "codemirror_mode": {
    "name": "ipython",
    "version": 3
   },
   "file_extension": ".py",
   "mimetype": "text/x-python",
   "name": "python",
   "nbconvert_exporter": "python",
   "pygments_lexer": "ipython3",
   "version": "3.13.0"
  }
 },
 "nbformat": 4,
 "nbformat_minor": 5
}
